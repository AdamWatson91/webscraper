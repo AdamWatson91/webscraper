{
 "cells": [
  {
   "cell_type": "code",
   "execution_count": 17,
   "metadata": {},
   "outputs": [
    {
     "name": "stderr",
     "output_type": "stream",
     "text": [
      "\n",
      "\n",
      "====== WebDriver manager ======\n",
      "Current google-chrome version is 99.0.4844\n",
      "Get LATEST chromedriver version for 99.0.4844 google-chrome\n",
      "Driver [/home/adamw/.wdm/drivers/chromedriver/linux64/99.0.4844.51/chromedriver] found in cache\n"
     ]
    }
   ],
   "source": [
    "from scraper_folder.scraper import Scraper\n",
    "import os\n",
    "# intialises Chrome webdriver as bot and opens the URL page\n",
    "URL = 'https://www.allrecipes.com/search/results/?search='\n",
    "bot = Scraper(URL)"
   ]
  },
  {
   "cell_type": "code",
   "execution_count": 4,
   "metadata": {},
   "outputs": [],
   "source": [
    "\n",
    "recipe_dict = {\n",
    "    'recipe_uuid4': '8d007e0b-677d-46f8-8cfa-0ce0be943dbf',\n",
    "    'recipe_id': '255343',\n",
    "    'link': 'https://www.allrecipes.com/recipe/255343/best-vegan-chocolate-oatmeal-waffles/'\n",
    "    }\n",
    "root_path = os.getcwd()\n",
    "bot.create_json(root_path, 'data', recipe_dict)"
   ]
  },
  {
   "cell_type": "code",
   "execution_count": 17,
   "metadata": {},
   "outputs": [
    {
     "data": {
      "text/plain": [
       "'/home/adamw/Documents/AiCore/webscraper'"
      ]
     },
     "execution_count": 17,
     "metadata": {},
     "output_type": "execute_result"
    }
   ],
   "source": [
    "bot.get_root_path()\n"
   ]
  },
  {
   "cell_type": "code",
   "execution_count": 16,
   "metadata": {},
   "outputs": [
    {
     "data": {
      "text/plain": [
       "'166727'"
      ]
     },
     "execution_count": 16,
     "metadata": {},
     "output_type": "execute_result"
    }
   ],
   "source": [
    "bot.extract_continous_digit_group('https://www.allrecipes.com/recipe/166727/donnas-123-sausage-balls/')"
   ]
  },
  {
   "cell_type": "code",
   "execution_count": 15,
   "metadata": {},
   "outputs": [
    {
     "data": {
      "text/plain": [
       "'Recipe Results'"
      ]
     },
     "execution_count": 15,
     "metadata": {},
     "output_type": "execute_result"
    }
   ],
   "source": [
    "bot.scrape_element('//h1[@id=\"search-results-heading\"]')"
   ]
  },
  {
   "cell_type": "code",
   "execution_count": 20,
   "metadata": {},
   "outputs": [],
   "source": [
    "bot.scroll_infinite(3)"
   ]
  },
  {
   "cell_type": "code",
   "execution_count": 22,
   "metadata": {},
   "outputs": [
    {
     "data": {
      "text/plain": [
       "['https://www.allrecipes.com/recipe/246450/spicy-watercress-salad/',\n",
       " 'https://www.allrecipes.com/recipe/240419/aidan-special/',\n",
       " 'https://www.allrecipes.com/recipe/236016/fiesta-steak-chili/',\n",
       " 'https://www.allrecipes.com/recipe/238664/seitan-diavolo/',\n",
       " 'https://www.allrecipes.com/recipe/265864/vegan-pumpkin-spice-cake/',\n",
       " 'https://www.allrecipes.com/recipe/266543/fruit-crepe-kebabs/',\n",
       " 'https://www.allrecipes.com/recipe/266749/rainbow-fruit-salsa-with-whole-wheat-cinnamon-chips/',\n",
       " 'https://www.allrecipes.com/recipe/263770/sheet-pan-zucchini-carrot-cake/',\n",
       " 'https://www.allrecipes.com/recipe/261019/halloween-meat-head/',\n",
       " 'https://www.allrecipes.com/recipe/261104/christmas-stuffing/',\n",
       " 'https://www.allrecipes.com/recipe/260410/paleo-seafood-chili/',\n",
       " 'https://www.allrecipes.com/recipe/258618/corn-cherry-tomato-salad/',\n",
       " 'https://www.allrecipes.com/recipe/259335/red-chard-with-feta-and-tomatoes/',\n",
       " 'https://www.allrecipes.com/recipe/256145/mini-cornmeal-cupcakes-with-maple-butter-cream/',\n",
       " 'https://www.allrecipes.com/recipe/237574/michele-and-karens-delicious-arugula-salad/',\n",
       " 'https://www.allrecipes.com/recipe/276902/toris-air-fryer-pumpkin-bagels/',\n",
       " 'https://www.allrecipes.com/recipe/276087/whiskey-glazed-ham/',\n",
       " 'https://www.allrecipes.com/recipe/276529/pumpkin-nut-cookies/',\n",
       " 'https://www.allrecipes.com/recipe/274938/white-chocolate-biscotti/',\n",
       " 'https://www.allrecipes.com/recipe/278088/christmas-pasta-salad/',\n",
       " 'https://www.allrecipes.com/recipe/283321/burrata-caprese/',\n",
       " 'https://www.allrecipes.com/recipe/281731/spicy-marinated-cauliflower-salad/',\n",
       " 'https://www.allrecipes.com/recipe/282314/peppermint-white-hot-chocolate/',\n",
       " 'https://www.allrecipes.com/recipe/282812/dairy-free-turkey-quinoa-meatloaf-casserole/',\n",
       " 'https://www.allrecipes.com/recipe/241805/baked-tofu-bites-on-a-bed-of-leafy-romaine/',\n",
       " 'https://www.allrecipes.com/recipe/24282/plum-pudding-i/',\n",
       " 'https://www.allrecipes.com/recipe/238731/gibanica-serbian-cheese-pie/',\n",
       " 'https://www.allrecipes.com/recipe/240676/reds-potato-salad/',\n",
       " 'https://www.allrecipes.com/recipe/241274/lemon-goat-cheese-cheesecake-bites-gluten-free-optional/',\n",
       " 'https://www.allrecipes.com/recipe/241355/clamato-pasta-primavera-with-creamy-sauce/',\n",
       " 'https://www.allrecipes.com/recipe/241050/chicken-with-creamy-realemon-sauce/',\n",
       " 'https://www.allrecipes.com/recipe/240077/nadias-easy-pumpkin-cornbread-muffins/',\n",
       " 'https://www.allrecipes.com/recipe/239625/italian-chocolate-balls-tuttu-balls/',\n",
       " 'https://www.allrecipes.com/recipe/237479/tuxedovilles-rhubarb-muffins/',\n",
       " 'https://www.allrecipes.com/recipe/237860/healthier-brownie-batter-dip/',\n",
       " 'https://www.allrecipes.com/recipe/234638/candices-lasagna-omelet/',\n",
       " 'https://www.allrecipes.com/recipe/233660/quick-smores-bars/',\n",
       " 'https://www.allrecipes.com/recipe/235408/chickpea-quinoa-mock-tuna-salad/',\n",
       " 'https://www.allrecipes.com/recipe/236923/aunt-kathys-tortilla-soup/',\n",
       " 'https://www.allrecipes.com/recipe/234160/pumpkin-pineapple-chili/',\n",
       " 'https://www.allrecipes.com/recipe/234792/greek-salad-on-roasted-garlic-french-bread/',\n",
       " 'https://www.allrecipes.com/recipe/235212/sausage-and-cheese-fluffins/',\n",
       " 'https://www.allrecipes.com/recipe/223334/hide-the-veggies-please-summer-squash-and-zucchini-corn-casserole/',\n",
       " 'https://www.allrecipes.com/recipe/223378/mamabears-potato-salad/',\n",
       " 'https://www.allrecipes.com/recipe/219971/old-fashioned-butter-valentine-cookies-dipped-in-chocolate/',\n",
       " 'https://www.allrecipes.com/recipe/177415/cinnamon-toast/',\n",
       " 'https://www.allrecipes.com/recipe/177727/picante-shrimp-n-pepper-pasta/',\n",
       " 'https://www.allrecipes.com/recipe/239116/to-die-for-butter-tarts/']"
      ]
     },
     "execution_count": 22,
     "metadata": {},
     "output_type": "execute_result"
    }
   ],
   "source": [
    "bot.scrape_page_links('//a[@class=\"card__titleLink manual-link-behavior elementFont__titleLink margin-8-bottom\"]',\n",
    "     1)"
   ]
  },
  {
   "cell_type": "code",
   "execution_count": 23,
   "metadata": {},
   "outputs": [
    {
     "data": {
      "text/plain": [
       "'cdb7f145-8e6d-485e-ba45-958007302d14'"
      ]
     },
     "execution_count": 23,
     "metadata": {},
     "output_type": "execute_result"
    }
   ],
   "source": [
    "bot.generate_uuid4()"
   ]
  },
  {
   "cell_type": "code",
   "execution_count": 25,
   "metadata": {},
   "outputs": [
    {
     "data": {
      "text/plain": [
       "'Image downloaded'"
      ]
     },
     "execution_count": 25,
     "metadata": {},
     "output_type": "execute_result"
    }
   ],
   "source": [
    "bot.download_image('//div[@class=\"inner-container js-inner-container image-overlay\"]/img', os.path.join(os.getcwd(), 'image_file.jpg'))"
   ]
  },
  {
   "cell_type": "code",
   "execution_count": 11,
   "metadata": {},
   "outputs": [
    {
     "name": "stdout",
     "output_type": "stream",
     "text": [
      "{'recipe_uuid4': '391f0653-b435-412d-b093-a05b0356758b', 'recipe_id': '278404', 'link': 'https://www.allrecipes.com/recipe/278404/sparkling-apple-cider-mimosa/', 'ingredient_list': ['½ cup granulated sugar', '4 tablespoons pumpkin pie spice', '1 (750 milliliter) bottle Domaine Ste. Michelle Extra Dry Brut', '1 (16 ounce) bottle apple cider, or as needed'], 'recipe_meta': ['Prep: 10 mins', 'Total: 10 mins', 'Servings: 4', 'Yield: 4 mimosas'], 'direction_steps': ['Step 1', 'Step 2', 'Step 3'], 'directions_instructions': ['Add sugar and pumpkin spice seasoning to a bowl; mix.', 'Dip champagne flute rims in water, then season each rim with sugar and pumpkin spice mixture.', 'Add 1/2 cup of Domaine Ste. Michelle to each glass. Fill the rest of the glass with apple cider.'], 'nutrition_summary': ['316 calories; protein 0.3g; carbohydrates 49.2g; fat 0.7g; sodium 17.8mg. Full Nutrition'], 'sub_categories': ['Home', 'Recipes', 'Breakfast and Brunch', 'Drinks']}\n"
     ]
    },
    {
     "data": {
      "text/plain": [
       "'Image uploaded'"
      ]
     },
     "execution_count": 11,
     "metadata": {},
     "output_type": "execute_result"
    }
   ],
   "source": [
    "import re\n",
    "import numpy as np\n",
    "import pandas as pd\n",
    "# link = 'https://www.allrecipes.com/recipe/268330/indonesian-ratatouille-with-tempeh/'  # being scraped\n",
    "link = 'https://www.allrecipes.com/recipe/278404/sparkling-apple-cider-mimosa/'  # next\n",
    "bot.driver.get(link)\n",
    "recipe_dict = {\n",
    "    'recipe_uuid4': bot.generate_uuid4(),\n",
    "    'recipe_id': bot.extract_continous_digit_group(link),\n",
    "    'link': link,\n",
    "    }\n",
    "scraped_page_dict = bot.scrape_multiple_page_elements(\n",
    "    ingredient_list='//span[@class=\"ingredients-item-name elementFont__body\"]',\n",
    "    recipe_meta='//div[@class=\"recipe-meta-item\"]',\n",
    "    direction_steps='//span[@class=\"checkbox-list-text elementFont__subtitle--bold\"]',\n",
    "    directions_instructions='//div[@class=\"section-body elementFont__body--paragraphWithin elementFont__body--linkWithin\"]/div[@class=\"paragraph\"]/p',\n",
    "    nutrition_summary='//div[@class=\"section-body\"]',\n",
    "    sub_categories='//span[@class=\"breadcrumbs__title\"]'\n",
    "    )\n",
    "recipe_dict.update(scraped_page_dict)\n",
    "print(recipe_dict)\n",
    "try:\n",
    "    sub_cat = os.path.join(\"AllRecipes\", re.sub(r'\\W+', '', recipe_dict['sub_categories'][2]))\n",
    "except IndexError:\n",
    "    sub_cat = os.path.join(\"AllRecipes\", re.sub(r'\\W+', '', recipe_dict['sub_categories'][-1]))\n",
    "recipe_df_create = bot.create_df_from_dict(['recipe_uuid4', 'recipe_id', 'link'], recipe_dict)\n",
    "ingredients_df_create = bot.create_df_from_dict(['recipe_uuid4', 'ingredient_list'], recipe_dict)\n",
    "directions_df_create = bot.create_df_from_dict(['recipe_uuid4', 'direction_steps', 'directions_instructions'], recipe_dict)\n",
    "recipe_meta_df_create = bot.create_df_from_dict(['recipe_uuid4', 'recipe_meta'], recipe_dict)\n",
    "nutrition_summary_df_create = bot.create_df_from_dict(['recipe_uuid4', 'nutrition_summary'], recipe_dict)\n",
    "image_id = bot.generate_uuid4()\n",
    "bot.upload_image('//div[@class=\"inner-container js-inner-container image-overlay\"]/img', 'testing' , 'watsonaicore', 'testing')\n",
    "\n",
    "# ingredients_df_create = pd.DataFrame({key: value for key, value in recipe_dict.items() if key in ['recipe_uuid4', 'ingredient_list']})\n",
    "# directions_df_create = pd.DataFrame({key: value for key, value in recipe_dict.items() if key in ['recipe_uuid4', 'direction_steps', 'directions_instructions']})\n",
    "# recipe_meta_df_create = pd.DataFrame({key: value for key, value in recipe_dict.items() if key in ['recipe_uuid4', 'recipe_meta']})\n",
    "# nutrition_summary_df_create = pd.DataFrame({key: value for key, value in recipe_dict.items() if key in ['recipe_uuid4', 'nutrition_summary']})\n"
   ]
  },
  {
   "cell_type": "code",
   "execution_count": 15,
   "metadata": {},
   "outputs": [
    {
     "name": "stdout",
     "output_type": "stream",
     "text": [
      "  two_cols_one_row_1 two_cols_one_row_2\n",
      "0                123                456\n",
      "  one_col_two_rows\n",
      "0              EFG\n",
      "1              HIJ\n"
     ]
    }
   ],
   "source": [
    "import pandas as pd\n",
    "expected_df_1 = pd.DataFrame([{\n",
    "    'two_cols_one_row_1': '123',\n",
    "    'two_cols_one_row_2': '456'\n",
    "}])\n",
    "print(expected_df_1)\n",
    "expected_df_2 = pd.DataFrame({\n",
    "    'one_col_two_rows': ['EFG', 'HIJ']\n",
    "})\n",
    "print(expected_df_2)"
   ]
  },
  {
   "cell_type": "code",
   "execution_count": 16,
   "metadata": {},
   "outputs": [
    {
     "name": "stdout",
     "output_type": "stream",
     "text": [
      "200\n",
      "200\n",
      "200\n",
      "200\n",
      "200\n",
      "200\n",
      "200\n",
      "200\n",
      "200\n",
      "200\n",
      "200\n",
      "200\n",
      "200\n",
      "200\n",
      "200\n",
      "200\n"
     ]
    },
    {
     "ename": "KeyboardInterrupt",
     "evalue": "",
     "output_type": "error",
     "traceback": [
      "\u001b[0;31m---------------------------------------------------------------------------\u001b[0m",
      "\u001b[0;31mKeyboardInterrupt\u001b[0m                         Traceback (most recent call last)",
      "\u001b[1;32m/home/adamw/Documents/AiCore/webscraper/developer_playground.ipynb Cell 12'\u001b[0m in \u001b[0;36m<module>\u001b[0;34m\u001b[0m\n\u001b[1;32m      <a href='vscode-notebook-cell:/home/adamw/Documents/AiCore/webscraper/developer_playground.ipynb#ch0000011?line=3'>4</a>\u001b[0m \u001b[39mfor\u001b[39;00m i \u001b[39min\u001b[39;00m \u001b[39mrange\u001b[39m(\u001b[39m200000\u001b[39m, \u001b[39m2000000\u001b[39m):\n\u001b[1;32m      <a href='vscode-notebook-cell:/home/adamw/Documents/AiCore/webscraper/developer_playground.ipynb#ch0000011?line=4'>5</a>\u001b[0m     link \u001b[39m=\u001b[39m \u001b[39mf\u001b[39m\u001b[39m'\u001b[39m\u001b[39mhttps://www.allrecipes.com/recipe/\u001b[39m\u001b[39m{\u001b[39;00mi\u001b[39m}\u001b[39;00m\u001b[39m'\u001b[39m\n\u001b[0;32m----> <a href='vscode-notebook-cell:/home/adamw/Documents/AiCore/webscraper/developer_playground.ipynb#ch0000011?line=5'>6</a>\u001b[0m     bot\u001b[39m.\u001b[39;49mdriver\u001b[39m.\u001b[39;49mget(link) \n\u001b[1;32m      <a href='vscode-notebook-cell:/home/adamw/Documents/AiCore/webscraper/developer_playground.ipynb#ch0000011?line=6'>7</a>\u001b[0m     x \u001b[39m=\u001b[39m requests\u001b[39m.\u001b[39mget(link)\n\u001b[1;32m      <a href='vscode-notebook-cell:/home/adamw/Documents/AiCore/webscraper/developer_playground.ipynb#ch0000011?line=7'>8</a>\u001b[0m     \u001b[39mprint\u001b[39m(x\u001b[39m.\u001b[39mstatus_code)\n",
      "File \u001b[0;32m~/miniconda3/envs/webscraper/lib/python3.9/site-packages/selenium/webdriver/remote/webdriver.py:436\u001b[0m, in \u001b[0;36mWebDriver.get\u001b[0;34m(self, url)\u001b[0m\n\u001b[1;32m    <a href='file:///home/adamw/miniconda3/envs/webscraper/lib/python3.9/site-packages/selenium/webdriver/remote/webdriver.py?line=431'>432</a>\u001b[0m \u001b[39mdef\u001b[39;00m \u001b[39mget\u001b[39m(\u001b[39mself\u001b[39m, url: \u001b[39mstr\u001b[39m) \u001b[39m-\u001b[39m\u001b[39m>\u001b[39m \u001b[39mNone\u001b[39;00m:\n\u001b[1;32m    <a href='file:///home/adamw/miniconda3/envs/webscraper/lib/python3.9/site-packages/selenium/webdriver/remote/webdriver.py?line=432'>433</a>\u001b[0m     \u001b[39m\"\"\"\u001b[39;00m\n\u001b[1;32m    <a href='file:///home/adamw/miniconda3/envs/webscraper/lib/python3.9/site-packages/selenium/webdriver/remote/webdriver.py?line=433'>434</a>\u001b[0m \u001b[39m    Loads a web page in the current browser session.\u001b[39;00m\n\u001b[1;32m    <a href='file:///home/adamw/miniconda3/envs/webscraper/lib/python3.9/site-packages/selenium/webdriver/remote/webdriver.py?line=434'>435</a>\u001b[0m \u001b[39m    \"\"\"\u001b[39;00m\n\u001b[0;32m--> <a href='file:///home/adamw/miniconda3/envs/webscraper/lib/python3.9/site-packages/selenium/webdriver/remote/webdriver.py?line=435'>436</a>\u001b[0m     \u001b[39mself\u001b[39;49m\u001b[39m.\u001b[39;49mexecute(Command\u001b[39m.\u001b[39;49mGET, {\u001b[39m'\u001b[39;49m\u001b[39murl\u001b[39;49m\u001b[39m'\u001b[39;49m: url})\n",
      "File \u001b[0;32m~/miniconda3/envs/webscraper/lib/python3.9/site-packages/selenium/webdriver/remote/webdriver.py:422\u001b[0m, in \u001b[0;36mWebDriver.execute\u001b[0;34m(self, driver_command, params)\u001b[0m\n\u001b[1;32m    <a href='file:///home/adamw/miniconda3/envs/webscraper/lib/python3.9/site-packages/selenium/webdriver/remote/webdriver.py?line=418'>419</a>\u001b[0m         params[\u001b[39m'\u001b[39m\u001b[39msessionId\u001b[39m\u001b[39m'\u001b[39m] \u001b[39m=\u001b[39m \u001b[39mself\u001b[39m\u001b[39m.\u001b[39msession_id\n\u001b[1;32m    <a href='file:///home/adamw/miniconda3/envs/webscraper/lib/python3.9/site-packages/selenium/webdriver/remote/webdriver.py?line=420'>421</a>\u001b[0m params \u001b[39m=\u001b[39m \u001b[39mself\u001b[39m\u001b[39m.\u001b[39m_wrap_value(params)\n\u001b[0;32m--> <a href='file:///home/adamw/miniconda3/envs/webscraper/lib/python3.9/site-packages/selenium/webdriver/remote/webdriver.py?line=421'>422</a>\u001b[0m response \u001b[39m=\u001b[39m \u001b[39mself\u001b[39;49m\u001b[39m.\u001b[39;49mcommand_executor\u001b[39m.\u001b[39;49mexecute(driver_command, params)\n\u001b[1;32m    <a href='file:///home/adamw/miniconda3/envs/webscraper/lib/python3.9/site-packages/selenium/webdriver/remote/webdriver.py?line=422'>423</a>\u001b[0m \u001b[39mif\u001b[39;00m response:\n\u001b[1;32m    <a href='file:///home/adamw/miniconda3/envs/webscraper/lib/python3.9/site-packages/selenium/webdriver/remote/webdriver.py?line=423'>424</a>\u001b[0m     \u001b[39mself\u001b[39m\u001b[39m.\u001b[39merror_handler\u001b[39m.\u001b[39mcheck_response(response)\n",
      "File \u001b[0;32m~/miniconda3/envs/webscraper/lib/python3.9/site-packages/selenium/webdriver/remote/remote_connection.py:421\u001b[0m, in \u001b[0;36mRemoteConnection.execute\u001b[0;34m(self, command, params)\u001b[0m\n\u001b[1;32m    <a href='file:///home/adamw/miniconda3/envs/webscraper/lib/python3.9/site-packages/selenium/webdriver/remote/remote_connection.py?line=418'>419</a>\u001b[0m data \u001b[39m=\u001b[39m utils\u001b[39m.\u001b[39mdump_json(params)\n\u001b[1;32m    <a href='file:///home/adamw/miniconda3/envs/webscraper/lib/python3.9/site-packages/selenium/webdriver/remote/remote_connection.py?line=419'>420</a>\u001b[0m url \u001b[39m=\u001b[39m \u001b[39mf\u001b[39m\u001b[39m\"\u001b[39m\u001b[39m{\u001b[39;00m\u001b[39mself\u001b[39m\u001b[39m.\u001b[39m_url\u001b[39m}\u001b[39;00m\u001b[39m{\u001b[39;00mpath\u001b[39m}\u001b[39;00m\u001b[39m\"\u001b[39m\n\u001b[0;32m--> <a href='file:///home/adamw/miniconda3/envs/webscraper/lib/python3.9/site-packages/selenium/webdriver/remote/remote_connection.py?line=420'>421</a>\u001b[0m \u001b[39mreturn\u001b[39;00m \u001b[39mself\u001b[39;49m\u001b[39m.\u001b[39;49m_request(command_info[\u001b[39m0\u001b[39;49m], url, body\u001b[39m=\u001b[39;49mdata)\n",
      "File \u001b[0;32m~/miniconda3/envs/webscraper/lib/python3.9/site-packages/selenium/webdriver/remote/remote_connection.py:443\u001b[0m, in \u001b[0;36mRemoteConnection._request\u001b[0;34m(self, method, url, body)\u001b[0m\n\u001b[1;32m    <a href='file:///home/adamw/miniconda3/envs/webscraper/lib/python3.9/site-packages/selenium/webdriver/remote/remote_connection.py?line=439'>440</a>\u001b[0m     body \u001b[39m=\u001b[39m \u001b[39mNone\u001b[39;00m\n\u001b[1;32m    <a href='file:///home/adamw/miniconda3/envs/webscraper/lib/python3.9/site-packages/selenium/webdriver/remote/remote_connection.py?line=441'>442</a>\u001b[0m \u001b[39mif\u001b[39;00m \u001b[39mself\u001b[39m\u001b[39m.\u001b[39mkeep_alive:\n\u001b[0;32m--> <a href='file:///home/adamw/miniconda3/envs/webscraper/lib/python3.9/site-packages/selenium/webdriver/remote/remote_connection.py?line=442'>443</a>\u001b[0m     resp \u001b[39m=\u001b[39m \u001b[39mself\u001b[39;49m\u001b[39m.\u001b[39;49m_conn\u001b[39m.\u001b[39;49mrequest(method, url, body\u001b[39m=\u001b[39;49mbody, headers\u001b[39m=\u001b[39;49mheaders)\n\u001b[1;32m    <a href='file:///home/adamw/miniconda3/envs/webscraper/lib/python3.9/site-packages/selenium/webdriver/remote/remote_connection.py?line=443'>444</a>\u001b[0m     statuscode \u001b[39m=\u001b[39m resp\u001b[39m.\u001b[39mstatus\n\u001b[1;32m    <a href='file:///home/adamw/miniconda3/envs/webscraper/lib/python3.9/site-packages/selenium/webdriver/remote/remote_connection.py?line=444'>445</a>\u001b[0m \u001b[39melse\u001b[39;00m:\n",
      "File \u001b[0;32m~/miniconda3/envs/webscraper/lib/python3.9/site-packages/urllib3/request.py:78\u001b[0m, in \u001b[0;36mRequestMethods.request\u001b[0;34m(self, method, url, fields, headers, **urlopen_kw)\u001b[0m\n\u001b[1;32m     <a href='file:///home/adamw/miniconda3/envs/webscraper/lib/python3.9/site-packages/urllib3/request.py?line=73'>74</a>\u001b[0m     \u001b[39mreturn\u001b[39;00m \u001b[39mself\u001b[39m\u001b[39m.\u001b[39mrequest_encode_url(\n\u001b[1;32m     <a href='file:///home/adamw/miniconda3/envs/webscraper/lib/python3.9/site-packages/urllib3/request.py?line=74'>75</a>\u001b[0m         method, url, fields\u001b[39m=\u001b[39mfields, headers\u001b[39m=\u001b[39mheaders, \u001b[39m*\u001b[39m\u001b[39m*\u001b[39murlopen_kw\n\u001b[1;32m     <a href='file:///home/adamw/miniconda3/envs/webscraper/lib/python3.9/site-packages/urllib3/request.py?line=75'>76</a>\u001b[0m     )\n\u001b[1;32m     <a href='file:///home/adamw/miniconda3/envs/webscraper/lib/python3.9/site-packages/urllib3/request.py?line=76'>77</a>\u001b[0m \u001b[39melse\u001b[39;00m:\n\u001b[0;32m---> <a href='file:///home/adamw/miniconda3/envs/webscraper/lib/python3.9/site-packages/urllib3/request.py?line=77'>78</a>\u001b[0m     \u001b[39mreturn\u001b[39;00m \u001b[39mself\u001b[39;49m\u001b[39m.\u001b[39;49mrequest_encode_body(\n\u001b[1;32m     <a href='file:///home/adamw/miniconda3/envs/webscraper/lib/python3.9/site-packages/urllib3/request.py?line=78'>79</a>\u001b[0m         method, url, fields\u001b[39m=\u001b[39;49mfields, headers\u001b[39m=\u001b[39;49mheaders, \u001b[39m*\u001b[39;49m\u001b[39m*\u001b[39;49murlopen_kw\n\u001b[1;32m     <a href='file:///home/adamw/miniconda3/envs/webscraper/lib/python3.9/site-packages/urllib3/request.py?line=79'>80</a>\u001b[0m     )\n",
      "File \u001b[0;32m~/miniconda3/envs/webscraper/lib/python3.9/site-packages/urllib3/request.py:170\u001b[0m, in \u001b[0;36mRequestMethods.request_encode_body\u001b[0;34m(self, method, url, fields, headers, encode_multipart, multipart_boundary, **urlopen_kw)\u001b[0m\n\u001b[1;32m    <a href='file:///home/adamw/miniconda3/envs/webscraper/lib/python3.9/site-packages/urllib3/request.py?line=166'>167</a>\u001b[0m extra_kw[\u001b[39m\"\u001b[39m\u001b[39mheaders\u001b[39m\u001b[39m\"\u001b[39m]\u001b[39m.\u001b[39mupdate(headers)\n\u001b[1;32m    <a href='file:///home/adamw/miniconda3/envs/webscraper/lib/python3.9/site-packages/urllib3/request.py?line=167'>168</a>\u001b[0m extra_kw\u001b[39m.\u001b[39mupdate(urlopen_kw)\n\u001b[0;32m--> <a href='file:///home/adamw/miniconda3/envs/webscraper/lib/python3.9/site-packages/urllib3/request.py?line=169'>170</a>\u001b[0m \u001b[39mreturn\u001b[39;00m \u001b[39mself\u001b[39;49m\u001b[39m.\u001b[39;49murlopen(method, url, \u001b[39m*\u001b[39;49m\u001b[39m*\u001b[39;49mextra_kw)\n",
      "File \u001b[0;32m~/miniconda3/envs/webscraper/lib/python3.9/site-packages/urllib3/poolmanager.py:375\u001b[0m, in \u001b[0;36mPoolManager.urlopen\u001b[0;34m(self, method, url, redirect, **kw)\u001b[0m\n\u001b[1;32m    <a href='file:///home/adamw/miniconda3/envs/webscraper/lib/python3.9/site-packages/urllib3/poolmanager.py?line=372'>373</a>\u001b[0m     response \u001b[39m=\u001b[39m conn\u001b[39m.\u001b[39murlopen(method, url, \u001b[39m*\u001b[39m\u001b[39m*\u001b[39mkw)\n\u001b[1;32m    <a href='file:///home/adamw/miniconda3/envs/webscraper/lib/python3.9/site-packages/urllib3/poolmanager.py?line=373'>374</a>\u001b[0m \u001b[39melse\u001b[39;00m:\n\u001b[0;32m--> <a href='file:///home/adamw/miniconda3/envs/webscraper/lib/python3.9/site-packages/urllib3/poolmanager.py?line=374'>375</a>\u001b[0m     response \u001b[39m=\u001b[39m conn\u001b[39m.\u001b[39;49murlopen(method, u\u001b[39m.\u001b[39;49mrequest_uri, \u001b[39m*\u001b[39;49m\u001b[39m*\u001b[39;49mkw)\n\u001b[1;32m    <a href='file:///home/adamw/miniconda3/envs/webscraper/lib/python3.9/site-packages/urllib3/poolmanager.py?line=376'>377</a>\u001b[0m redirect_location \u001b[39m=\u001b[39m redirect \u001b[39mand\u001b[39;00m response\u001b[39m.\u001b[39mget_redirect_location()\n\u001b[1;32m    <a href='file:///home/adamw/miniconda3/envs/webscraper/lib/python3.9/site-packages/urllib3/poolmanager.py?line=377'>378</a>\u001b[0m \u001b[39mif\u001b[39;00m \u001b[39mnot\u001b[39;00m redirect_location:\n",
      "File \u001b[0;32m~/miniconda3/envs/webscraper/lib/python3.9/site-packages/urllib3/connectionpool.py:703\u001b[0m, in \u001b[0;36mHTTPConnectionPool.urlopen\u001b[0;34m(self, method, url, body, headers, retries, redirect, assert_same_host, timeout, pool_timeout, release_conn, chunked, body_pos, **response_kw)\u001b[0m\n\u001b[1;32m    <a href='file:///home/adamw/miniconda3/envs/webscraper/lib/python3.9/site-packages/urllib3/connectionpool.py?line=699'>700</a>\u001b[0m     \u001b[39mself\u001b[39m\u001b[39m.\u001b[39m_prepare_proxy(conn)\n\u001b[1;32m    <a href='file:///home/adamw/miniconda3/envs/webscraper/lib/python3.9/site-packages/urllib3/connectionpool.py?line=701'>702</a>\u001b[0m \u001b[39m# Make the request on the httplib connection object.\u001b[39;00m\n\u001b[0;32m--> <a href='file:///home/adamw/miniconda3/envs/webscraper/lib/python3.9/site-packages/urllib3/connectionpool.py?line=702'>703</a>\u001b[0m httplib_response \u001b[39m=\u001b[39m \u001b[39mself\u001b[39;49m\u001b[39m.\u001b[39;49m_make_request(\n\u001b[1;32m    <a href='file:///home/adamw/miniconda3/envs/webscraper/lib/python3.9/site-packages/urllib3/connectionpool.py?line=703'>704</a>\u001b[0m     conn,\n\u001b[1;32m    <a href='file:///home/adamw/miniconda3/envs/webscraper/lib/python3.9/site-packages/urllib3/connectionpool.py?line=704'>705</a>\u001b[0m     method,\n\u001b[1;32m    <a href='file:///home/adamw/miniconda3/envs/webscraper/lib/python3.9/site-packages/urllib3/connectionpool.py?line=705'>706</a>\u001b[0m     url,\n\u001b[1;32m    <a href='file:///home/adamw/miniconda3/envs/webscraper/lib/python3.9/site-packages/urllib3/connectionpool.py?line=706'>707</a>\u001b[0m     timeout\u001b[39m=\u001b[39;49mtimeout_obj,\n\u001b[1;32m    <a href='file:///home/adamw/miniconda3/envs/webscraper/lib/python3.9/site-packages/urllib3/connectionpool.py?line=707'>708</a>\u001b[0m     body\u001b[39m=\u001b[39;49mbody,\n\u001b[1;32m    <a href='file:///home/adamw/miniconda3/envs/webscraper/lib/python3.9/site-packages/urllib3/connectionpool.py?line=708'>709</a>\u001b[0m     headers\u001b[39m=\u001b[39;49mheaders,\n\u001b[1;32m    <a href='file:///home/adamw/miniconda3/envs/webscraper/lib/python3.9/site-packages/urllib3/connectionpool.py?line=709'>710</a>\u001b[0m     chunked\u001b[39m=\u001b[39;49mchunked,\n\u001b[1;32m    <a href='file:///home/adamw/miniconda3/envs/webscraper/lib/python3.9/site-packages/urllib3/connectionpool.py?line=710'>711</a>\u001b[0m )\n\u001b[1;32m    <a href='file:///home/adamw/miniconda3/envs/webscraper/lib/python3.9/site-packages/urllib3/connectionpool.py?line=712'>713</a>\u001b[0m \u001b[39m# If we're going to release the connection in ``finally:``, then\u001b[39;00m\n\u001b[1;32m    <a href='file:///home/adamw/miniconda3/envs/webscraper/lib/python3.9/site-packages/urllib3/connectionpool.py?line=713'>714</a>\u001b[0m \u001b[39m# the response doesn't need to know about the connection. Otherwise\u001b[39;00m\n\u001b[1;32m    <a href='file:///home/adamw/miniconda3/envs/webscraper/lib/python3.9/site-packages/urllib3/connectionpool.py?line=714'>715</a>\u001b[0m \u001b[39m# it will also try to release it and we'll have a double-release\u001b[39;00m\n\u001b[1;32m    <a href='file:///home/adamw/miniconda3/envs/webscraper/lib/python3.9/site-packages/urllib3/connectionpool.py?line=715'>716</a>\u001b[0m \u001b[39m# mess.\u001b[39;00m\n\u001b[1;32m    <a href='file:///home/adamw/miniconda3/envs/webscraper/lib/python3.9/site-packages/urllib3/connectionpool.py?line=716'>717</a>\u001b[0m response_conn \u001b[39m=\u001b[39m conn \u001b[39mif\u001b[39;00m \u001b[39mnot\u001b[39;00m release_conn \u001b[39melse\u001b[39;00m \u001b[39mNone\u001b[39;00m\n",
      "File \u001b[0;32m~/miniconda3/envs/webscraper/lib/python3.9/site-packages/urllib3/connectionpool.py:449\u001b[0m, in \u001b[0;36mHTTPConnectionPool._make_request\u001b[0;34m(self, conn, method, url, timeout, chunked, **httplib_request_kw)\u001b[0m\n\u001b[1;32m    <a href='file:///home/adamw/miniconda3/envs/webscraper/lib/python3.9/site-packages/urllib3/connectionpool.py?line=443'>444</a>\u001b[0m             httplib_response \u001b[39m=\u001b[39m conn\u001b[39m.\u001b[39mgetresponse()\n\u001b[1;32m    <a href='file:///home/adamw/miniconda3/envs/webscraper/lib/python3.9/site-packages/urllib3/connectionpool.py?line=444'>445</a>\u001b[0m         \u001b[39mexcept\u001b[39;00m \u001b[39mBaseException\u001b[39;00m \u001b[39mas\u001b[39;00m e:\n\u001b[1;32m    <a href='file:///home/adamw/miniconda3/envs/webscraper/lib/python3.9/site-packages/urllib3/connectionpool.py?line=445'>446</a>\u001b[0m             \u001b[39m# Remove the TypeError from the exception chain in\u001b[39;00m\n\u001b[1;32m    <a href='file:///home/adamw/miniconda3/envs/webscraper/lib/python3.9/site-packages/urllib3/connectionpool.py?line=446'>447</a>\u001b[0m             \u001b[39m# Python 3 (including for exceptions like SystemExit).\u001b[39;00m\n\u001b[1;32m    <a href='file:///home/adamw/miniconda3/envs/webscraper/lib/python3.9/site-packages/urllib3/connectionpool.py?line=447'>448</a>\u001b[0m             \u001b[39m# Otherwise it looks like a bug in the code.\u001b[39;00m\n\u001b[0;32m--> <a href='file:///home/adamw/miniconda3/envs/webscraper/lib/python3.9/site-packages/urllib3/connectionpool.py?line=448'>449</a>\u001b[0m             six\u001b[39m.\u001b[39;49mraise_from(e, \u001b[39mNone\u001b[39;49;00m)\n\u001b[1;32m    <a href='file:///home/adamw/miniconda3/envs/webscraper/lib/python3.9/site-packages/urllib3/connectionpool.py?line=449'>450</a>\u001b[0m \u001b[39mexcept\u001b[39;00m (SocketTimeout, BaseSSLError, SocketError) \u001b[39mas\u001b[39;00m e:\n\u001b[1;32m    <a href='file:///home/adamw/miniconda3/envs/webscraper/lib/python3.9/site-packages/urllib3/connectionpool.py?line=450'>451</a>\u001b[0m     \u001b[39mself\u001b[39m\u001b[39m.\u001b[39m_raise_timeout(err\u001b[39m=\u001b[39me, url\u001b[39m=\u001b[39murl, timeout_value\u001b[39m=\u001b[39mread_timeout)\n",
      "File \u001b[0;32m<string>:3\u001b[0m, in \u001b[0;36mraise_from\u001b[0;34m(value, from_value)\u001b[0m\n",
      "File \u001b[0;32m~/miniconda3/envs/webscraper/lib/python3.9/site-packages/urllib3/connectionpool.py:444\u001b[0m, in \u001b[0;36mHTTPConnectionPool._make_request\u001b[0;34m(self, conn, method, url, timeout, chunked, **httplib_request_kw)\u001b[0m\n\u001b[1;32m    <a href='file:///home/adamw/miniconda3/envs/webscraper/lib/python3.9/site-packages/urllib3/connectionpool.py?line=440'>441</a>\u001b[0m \u001b[39mexcept\u001b[39;00m \u001b[39mTypeError\u001b[39;00m:\n\u001b[1;32m    <a href='file:///home/adamw/miniconda3/envs/webscraper/lib/python3.9/site-packages/urllib3/connectionpool.py?line=441'>442</a>\u001b[0m     \u001b[39m# Python 3\u001b[39;00m\n\u001b[1;32m    <a href='file:///home/adamw/miniconda3/envs/webscraper/lib/python3.9/site-packages/urllib3/connectionpool.py?line=442'>443</a>\u001b[0m     \u001b[39mtry\u001b[39;00m:\n\u001b[0;32m--> <a href='file:///home/adamw/miniconda3/envs/webscraper/lib/python3.9/site-packages/urllib3/connectionpool.py?line=443'>444</a>\u001b[0m         httplib_response \u001b[39m=\u001b[39m conn\u001b[39m.\u001b[39;49mgetresponse()\n\u001b[1;32m    <a href='file:///home/adamw/miniconda3/envs/webscraper/lib/python3.9/site-packages/urllib3/connectionpool.py?line=444'>445</a>\u001b[0m     \u001b[39mexcept\u001b[39;00m \u001b[39mBaseException\u001b[39;00m \u001b[39mas\u001b[39;00m e:\n\u001b[1;32m    <a href='file:///home/adamw/miniconda3/envs/webscraper/lib/python3.9/site-packages/urllib3/connectionpool.py?line=445'>446</a>\u001b[0m         \u001b[39m# Remove the TypeError from the exception chain in\u001b[39;00m\n\u001b[1;32m    <a href='file:///home/adamw/miniconda3/envs/webscraper/lib/python3.9/site-packages/urllib3/connectionpool.py?line=446'>447</a>\u001b[0m         \u001b[39m# Python 3 (including for exceptions like SystemExit).\u001b[39;00m\n\u001b[1;32m    <a href='file:///home/adamw/miniconda3/envs/webscraper/lib/python3.9/site-packages/urllib3/connectionpool.py?line=447'>448</a>\u001b[0m         \u001b[39m# Otherwise it looks like a bug in the code.\u001b[39;00m\n\u001b[1;32m    <a href='file:///home/adamw/miniconda3/envs/webscraper/lib/python3.9/site-packages/urllib3/connectionpool.py?line=448'>449</a>\u001b[0m         six\u001b[39m.\u001b[39mraise_from(e, \u001b[39mNone\u001b[39;00m)\n",
      "File \u001b[0;32m~/miniconda3/envs/webscraper/lib/python3.9/http/client.py:1371\u001b[0m, in \u001b[0;36mHTTPConnection.getresponse\u001b[0;34m(self)\u001b[0m\n\u001b[1;32m   <a href='file:///home/adamw/miniconda3/envs/webscraper/lib/python3.9/http/client.py?line=1368'>1369</a>\u001b[0m \u001b[39mtry\u001b[39;00m:\n\u001b[1;32m   <a href='file:///home/adamw/miniconda3/envs/webscraper/lib/python3.9/http/client.py?line=1369'>1370</a>\u001b[0m     \u001b[39mtry\u001b[39;00m:\n\u001b[0;32m-> <a href='file:///home/adamw/miniconda3/envs/webscraper/lib/python3.9/http/client.py?line=1370'>1371</a>\u001b[0m         response\u001b[39m.\u001b[39;49mbegin()\n\u001b[1;32m   <a href='file:///home/adamw/miniconda3/envs/webscraper/lib/python3.9/http/client.py?line=1371'>1372</a>\u001b[0m     \u001b[39mexcept\u001b[39;00m \u001b[39mConnectionError\u001b[39;00m:\n\u001b[1;32m   <a href='file:///home/adamw/miniconda3/envs/webscraper/lib/python3.9/http/client.py?line=1372'>1373</a>\u001b[0m         \u001b[39mself\u001b[39m\u001b[39m.\u001b[39mclose()\n",
      "File \u001b[0;32m~/miniconda3/envs/webscraper/lib/python3.9/http/client.py:319\u001b[0m, in \u001b[0;36mHTTPResponse.begin\u001b[0;34m(self)\u001b[0m\n\u001b[1;32m    <a href='file:///home/adamw/miniconda3/envs/webscraper/lib/python3.9/http/client.py?line=316'>317</a>\u001b[0m \u001b[39m# read until we get a non-100 response\u001b[39;00m\n\u001b[1;32m    <a href='file:///home/adamw/miniconda3/envs/webscraper/lib/python3.9/http/client.py?line=317'>318</a>\u001b[0m \u001b[39mwhile\u001b[39;00m \u001b[39mTrue\u001b[39;00m:\n\u001b[0;32m--> <a href='file:///home/adamw/miniconda3/envs/webscraper/lib/python3.9/http/client.py?line=318'>319</a>\u001b[0m     version, status, reason \u001b[39m=\u001b[39m \u001b[39mself\u001b[39;49m\u001b[39m.\u001b[39;49m_read_status()\n\u001b[1;32m    <a href='file:///home/adamw/miniconda3/envs/webscraper/lib/python3.9/http/client.py?line=319'>320</a>\u001b[0m     \u001b[39mif\u001b[39;00m status \u001b[39m!=\u001b[39m CONTINUE:\n\u001b[1;32m    <a href='file:///home/adamw/miniconda3/envs/webscraper/lib/python3.9/http/client.py?line=320'>321</a>\u001b[0m         \u001b[39mbreak\u001b[39;00m\n",
      "File \u001b[0;32m~/miniconda3/envs/webscraper/lib/python3.9/http/client.py:280\u001b[0m, in \u001b[0;36mHTTPResponse._read_status\u001b[0;34m(self)\u001b[0m\n\u001b[1;32m    <a href='file:///home/adamw/miniconda3/envs/webscraper/lib/python3.9/http/client.py?line=278'>279</a>\u001b[0m \u001b[39mdef\u001b[39;00m \u001b[39m_read_status\u001b[39m(\u001b[39mself\u001b[39m):\n\u001b[0;32m--> <a href='file:///home/adamw/miniconda3/envs/webscraper/lib/python3.9/http/client.py?line=279'>280</a>\u001b[0m     line \u001b[39m=\u001b[39m \u001b[39mstr\u001b[39m(\u001b[39mself\u001b[39;49m\u001b[39m.\u001b[39;49mfp\u001b[39m.\u001b[39;49mreadline(_MAXLINE \u001b[39m+\u001b[39;49m \u001b[39m1\u001b[39;49m), \u001b[39m\"\u001b[39m\u001b[39miso-8859-1\u001b[39m\u001b[39m\"\u001b[39m)\n\u001b[1;32m    <a href='file:///home/adamw/miniconda3/envs/webscraper/lib/python3.9/http/client.py?line=280'>281</a>\u001b[0m     \u001b[39mif\u001b[39;00m \u001b[39mlen\u001b[39m(line) \u001b[39m>\u001b[39m _MAXLINE:\n\u001b[1;32m    <a href='file:///home/adamw/miniconda3/envs/webscraper/lib/python3.9/http/client.py?line=281'>282</a>\u001b[0m         \u001b[39mraise\u001b[39;00m LineTooLong(\u001b[39m\"\u001b[39m\u001b[39mstatus line\u001b[39m\u001b[39m\"\u001b[39m)\n",
      "File \u001b[0;32m~/miniconda3/envs/webscraper/lib/python3.9/socket.py:704\u001b[0m, in \u001b[0;36mSocketIO.readinto\u001b[0;34m(self, b)\u001b[0m\n\u001b[1;32m    <a href='file:///home/adamw/miniconda3/envs/webscraper/lib/python3.9/socket.py?line=701'>702</a>\u001b[0m \u001b[39mwhile\u001b[39;00m \u001b[39mTrue\u001b[39;00m:\n\u001b[1;32m    <a href='file:///home/adamw/miniconda3/envs/webscraper/lib/python3.9/socket.py?line=702'>703</a>\u001b[0m     \u001b[39mtry\u001b[39;00m:\n\u001b[0;32m--> <a href='file:///home/adamw/miniconda3/envs/webscraper/lib/python3.9/socket.py?line=703'>704</a>\u001b[0m         \u001b[39mreturn\u001b[39;00m \u001b[39mself\u001b[39;49m\u001b[39m.\u001b[39;49m_sock\u001b[39m.\u001b[39;49mrecv_into(b)\n\u001b[1;32m    <a href='file:///home/adamw/miniconda3/envs/webscraper/lib/python3.9/socket.py?line=704'>705</a>\u001b[0m     \u001b[39mexcept\u001b[39;00m timeout:\n\u001b[1;32m    <a href='file:///home/adamw/miniconda3/envs/webscraper/lib/python3.9/socket.py?line=705'>706</a>\u001b[0m         \u001b[39mself\u001b[39m\u001b[39m.\u001b[39m_timeout_occurred \u001b[39m=\u001b[39m \u001b[39mTrue\u001b[39;00m\n",
      "\u001b[0;31mKeyboardInterrupt\u001b[0m: "
     ]
    }
   ],
   "source": [
    "import requests\n",
    "i = 1\n",
    "\n",
    "for i in range(200000, 2000000):\n",
    "    link = f'https://www.allrecipes.com/recipe/{i}'\n",
    "    bot.driver.get(link) \n",
    "    x = requests.get(link)\n",
    "    print(x.status_code)\n",
    "    i += 1\n"
   ]
  },
  {
   "cell_type": "code",
   "execution_count": 18,
   "metadata": {},
   "outputs": [
    {
     "name": "stdout",
     "output_type": "stream",
     "text": [
      "0\n",
      "['https://www.allrecipes.com/recipe/269518/eggnog-poke-cake/', 'https://www.allrecipes.com/recipe/265688/okonomilotes/', 'https://www.allrecipes.com/recipe/272419/100-whole-wheat-harvest-pancakes/', 'https://www.allrecipes.com/recipe/259442/corn-with-roasted-chiles-creme-fraiche-cotija-cheese/', 'https://www.allrecipes.com/recipe/260430/summer-lentils-with-tomatoes/', 'https://www.allrecipes.com/recipe/256670/dairy-free-golden-milk-latte/', 'https://www.allrecipes.com/recipe/247444/grilled-flatbread-pizzas-with-avocado-pesto/', 'https://www.allrecipes.com/recipe/255226/forest-on-a-bagel/', 'https://www.allrecipes.com/recipe/254873/wish-bone-cucumber-and-cherry-tomato-salad/', 'https://www.allrecipes.com/recipe/254301/sausage-and-apple-stuffed-french-toast/', 'https://www.allrecipes.com/recipe/247323/grilled-lemongrass-chicken/', 'https://www.allrecipes.com/recipe/245451/thai-lettuce-cups-with-red-curry-potatoes/', 'https://www.allrecipes.com/recipe/240722/no-yolks-skillet-salsa-chicken-with-noodles/', 'https://www.allrecipes.com/recipe/24303/oatmeal-cookie-mix-in-a-jar/', 'https://www.allrecipes.com/recipe/270604/instant-pot-horseradish-dill-asparagus/', 'https://www.allrecipes.com/recipe/273567/grilled-peach-toast-with-mascarpone-and-honey/', 'https://www.allrecipes.com/recipe/267920/rainbow-smoothie-pops/', 'https://www.allrecipes.com/recipe/268553/easy-baked-apricots/', 'https://www.allrecipes.com/recipe/268657/feta-stuffed-cocktail-buffalo-chicken-meatballs/', 'https://www.allrecipes.com/recipe/266811/hatch-chile-turkey-panini/', 'https://www.allrecipes.com/recipe/265985/vegan-mars-bar-cheesecake/', 'https://www.allrecipes.com/recipe/262671/strawberry-cheesecake-baklava/', 'https://www.allrecipes.com/recipe/280656/peaches-n-cream-shortcake/', 'https://www.allrecipes.com/recipe/280390/strawberry-caprese-panzanella/', 'https://www.allrecipes.com/recipe/216256/perfect-pumpkin-seeds/', 'https://www.allrecipes.com/recipe/242227/watermelon-cilantro-salsa-tropical/', 'https://www.allrecipes.com/recipe/285919/rustic-venison-stew/', 'https://www.allrecipes.com/recipe/255087/the-absolutely-best-mango-pudding/', 'https://www.allrecipes.com/recipe/285668/vegan-whole-wheat-pancakes/', 'https://www.allrecipes.com/recipe/72291/strawberries-flambeed-in-vodka-with-hot-ice-cream/', 'https://www.allrecipes.com/recipe/255063/blackberry-pomegranate-quinoa-parfait/', 'https://www.allrecipes.com/recipe/265878/mikes-epic-zoodle-fettuccine-alfredo-with-chicken/', 'https://www.allrecipes.com/recipe/240394/titis-cranberry-walnut-pumpkin-bread-cake/', 'https://www.allrecipes.com/recipe/93648/cranberry-puffs/', 'https://www.allrecipes.com/recipe/47834/tomato-cheese-crunch/', 'https://www.allrecipes.com/recipe/229663/orange-tea-bourbon-brined-paprika-butter-turkey/', 'https://www.allrecipes.com/recipe/229562/morning-bruschetta/', 'https://www.allrecipes.com/recipe/72489/hearty-tomato-rice-soup/', 'https://www.allrecipes.com/recipe/258454/grilled-salt-and-pepper-bread/', 'https://www.allrecipes.com/recipe/245562/roasted-butternut-squash-soup-infused-with-chocolate/', 'https://www.allrecipes.com/recipe/285389/individual-mixed-berry-air-fryer-crisps/', 'https://www.allrecipes.com/recipe/234723/pumpkin-white-chocolate-cookies/', 'https://www.allrecipes.com/recipe/281680/pumpkin-thai-curry-pot-pie/', 'https://www.allrecipes.com/recipe/259240/zucchini-salad-with-herbs-and-red-onion/', 'https://www.allrecipes.com/recipe/231479/corn-salad-with-arugula/', 'https://www.allrecipes.com/recipe/190060/champagne-sorbet-with-berry-medley/', 'https://www.allrecipes.com/recipe/240574/warm-cranberry-orange-spice-punch/', 'https://www.allrecipes.com/recipe/275622/pumpkin-apple-cider-muffins/', 'https://www.allrecipes.com/recipe/258110/mini-waffle-pops-with-white-chocolate-coconut-and-candied-ginger/', 'https://www.allrecipes.com/recipe/164694/kelloggs-rice-krispies-savoury-sweet-potato-sticks/', 'https://www.allrecipes.com/recipe/236215/geeta-aunties-potato-and-vegetable-bhaji/', 'https://www.allrecipes.com/recipe/255718/spiced-pumpkin-cheesecake-cupcakes/', 'https://www.allrecipes.com/recipe/266544/ham-and-veggie-crepe-kebabs/', 'https://www.allrecipes.com/recipe/272288/savory-shrimp-salad-dip/', 'https://www.allrecipes.com/recipe/280396/amazing-almond-carrot-currant-bread/', 'https://www.allrecipes.com/recipe/277234/yeasted-poppy-seed-apple-buns/', 'https://www.allrecipes.com/recipe/254460/berry-maple-yogurt-cup/', 'https://www.allrecipes.com/recipe/276049/grandmas-pumpkin-ice-cream-pie/', 'https://www.allrecipes.com/recipe/276996/pumpkin-and-pear-bisque-with-goat-cheese/', 'https://www.allrecipes.com/recipe/266814/spiced-chai-fruit-dip/', 'https://www.allrecipes.com/recipe/237837/green-curry-pumpkin-and-coriander-soup/', 'https://www.allrecipes.com/recipe/247174/peaches-n-creme-smores/', 'https://www.allrecipes.com/recipe/259702/pumpkin-pie-triple-berry-tarties/', 'https://www.allrecipes.com/recipe/272936/best-4th-of-july-patriotic-brownies/', 'https://www.allrecipes.com/recipe/267864/vegan-halloween-chocolate-cupcakes-with-vegan-matcha-icing/', 'https://www.allrecipes.com/recipe/280334/strawberry-banana-daiquiri-ice-pops/', 'https://www.allrecipes.com/recipe/212393/annam-kobbari-parvanam-rice-and-coconut-kheer/', 'https://www.allrecipes.com/recipe/273047/strawberry-hill-tartelettes/', 'https://www.allrecipes.com/recipe/194752/kings-hawaiian-smores/', 'https://www.allrecipes.com/recipe/258199/sunbutter-apple-sandwich/', 'https://www.allrecipes.com/recipe/285593/yellow-and-purple-mashed-potatoes/', 'https://www.allrecipes.com/recipe/284937/spicy-and-sweet-mango-peach-sauce/', 'https://www.allrecipes.com/recipe/282098/steak-tortellini-alfredo/', 'https://www.allrecipes.com/recipe/282186/martina-mcbrides-no-bake-peanut-butter-chocolate-cookies/', 'https://www.allrecipes.com/recipe/282535/curried-tomato-and-red-lentil-stew/', 'https://www.allrecipes.com/recipe/65416/clovers-shrimp-and-basil/', 'https://www.allrecipes.com/recipe/285252/blueberry-ginger-breakfast-smoothie/', 'https://www.allrecipes.com/recipe/283715/kesme-helva/', 'https://www.allrecipes.com/recipe/284889/seared-scallops-with-grapefruit-fennel-salad/', 'https://www.allrecipes.com/recipe/35611/orange-coconut-salmon/', 'https://www.allrecipes.com/recipe/41175/aunt-mabels-molded-avocado-salad-with-toasted-pecans/', 'https://www.allrecipes.com/recipe/286288/hash-brown-blue-cheese-and-spinach-stuffed-mushrooms/', 'https://www.allrecipes.com/recipe/247444/grilled-flatbread-pizzas-with-avocado-pesto/', 'https://www.allrecipes.com/recipe/259442/corn-with-roasted-chiles-creme-fraiche-cotija-cheese/', 'https://www.allrecipes.com/recipe/255226/forest-on-a-bagel/', 'https://www.allrecipes.com/recipe/256670/dairy-free-golden-milk-latte/', 'https://www.allrecipes.com/recipe/260430/summer-lentils-with-tomatoes/', 'https://www.allrecipes.com/recipe/268435/easy-pumpkin-mac-and-cheese/', 'https://www.allrecipes.com/recipe/277972/nutcracker-mixed-nut-brittle-in-the-microwave/', 'https://www.allrecipes.com/recipe/254455/double-chocolate-dipped-strawberry-yogurt-cup/', 'https://www.allrecipes.com/recipe/274335/watermelon-margarita-slices/', 'https://www.allrecipes.com/recipe/257847/ritz-berries-and-creme-toppers/', 'https://www.allrecipes.com/recipe/273898/tropical-banana-breeze-taco-cup/', 'https://www.allrecipes.com/recipe/255718/spiced-pumpkin-cheesecake-cupcakes/', 'https://www.allrecipes.com/recipe/272288/savory-shrimp-salad-dip/', 'https://www.allrecipes.com/recipe/276996/pumpkin-and-pear-bisque-with-goat-cheese/']\n"
     ]
    }
   ],
   "source": [
    "links = bot.scrape_page_links(\n",
    "    '//a[@class=\"card__titleLink manual-link-behavior elementFont__titleLink margin-8-bottom\"]',\n",
    "    1\n",
    ")\n",
    "print(links)"
   ]
  }
 ],
 "metadata": {
  "interpreter": {
   "hash": "81c5ff91b72c9c02ede9b1d23e97892c0183cc91a053f108d9de0a266fdd5c38"
  },
  "kernelspec": {
   "display_name": "Python 3.9.7 ('webscraper')",
   "language": "python",
   "name": "python3"
  },
  "language_info": {
   "codemirror_mode": {
    "name": "ipython",
    "version": 3
   },
   "file_extension": ".py",
   "mimetype": "text/x-python",
   "name": "python",
   "nbconvert_exporter": "python",
   "pygments_lexer": "ipython3",
   "version": "3.9.7"
  },
  "orig_nbformat": 4
 },
 "nbformat": 4,
 "nbformat_minor": 2
}
