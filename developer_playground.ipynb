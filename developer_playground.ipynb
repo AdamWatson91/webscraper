{
 "cells": [
  {
   "cell_type": "code",
   "execution_count": 4,
   "metadata": {},
   "outputs": [
    {
     "name": "stderr",
     "output_type": "stream",
     "text": [
      "\n",
      "\n",
      "====== WebDriver manager ======\n",
      "Current google-chrome version is 99.0.4844\n",
      "Get LATEST chromedriver version for 99.0.4844 google-chrome\n",
      "Driver [/home/adamw/.wdm/drivers/chromedriver/linux64/99.0.4844.51/chromedriver] found in cache\n"
     ]
    }
   ],
   "source": [
    "from scraper_folder.scraper import Scraper\n",
    "import os\n",
    "# intialises Chrome webdriver as bot and opens the URL page\n",
    "URL = 'https://www.allrecipes.com/search/results/?search='\n",
    "bot = Scraper(URL)"
   ]
  },
  {
   "cell_type": "code",
   "execution_count": 4,
   "metadata": {},
   "outputs": [],
   "source": [
    "\n",
    "recipe_dict = {\n",
    "    'recipe_uuid4': '8d007e0b-677d-46f8-8cfa-0ce0be943dbf',\n",
    "    'recipe_id': '255343',\n",
    "    'link': 'https://www.allrecipes.com/recipe/255343/best-vegan-chocolate-oatmeal-waffles/'\n",
    "    }\n",
    "root_path = os.getcwd()\n",
    "bot.create_json(root_path, 'data', recipe_dict)"
   ]
  },
  {
   "cell_type": "code",
   "execution_count": 17,
   "metadata": {},
   "outputs": [
    {
     "data": {
      "text/plain": [
       "'/home/adamw/Documents/AiCore/webscraper'"
      ]
     },
     "execution_count": 17,
     "metadata": {},
     "output_type": "execute_result"
    }
   ],
   "source": [
    "bot.get_root_path()\n"
   ]
  },
  {
   "cell_type": "code",
   "execution_count": 16,
   "metadata": {},
   "outputs": [
    {
     "data": {
      "text/plain": [
       "'166727'"
      ]
     },
     "execution_count": 16,
     "metadata": {},
     "output_type": "execute_result"
    }
   ],
   "source": [
    "bot.extract_continous_digit_group('https://www.allrecipes.com/recipe/166727/donnas-123-sausage-balls/')"
   ]
  },
  {
   "cell_type": "code",
   "execution_count": 15,
   "metadata": {},
   "outputs": [
    {
     "data": {
      "text/plain": [
       "'Recipe Results'"
      ]
     },
     "execution_count": 15,
     "metadata": {},
     "output_type": "execute_result"
    }
   ],
   "source": [
    "bot.scrape_element('//h1[@id=\"search-results-heading\"]')"
   ]
  },
  {
   "cell_type": "code",
   "execution_count": 20,
   "metadata": {},
   "outputs": [],
   "source": [
    "bot.scroll_infinite(3)"
   ]
  },
  {
   "cell_type": "code",
   "execution_count": 22,
   "metadata": {},
   "outputs": [
    {
     "data": {
      "text/plain": [
       "['https://www.allrecipes.com/recipe/246450/spicy-watercress-salad/',\n",
       " 'https://www.allrecipes.com/recipe/240419/aidan-special/',\n",
       " 'https://www.allrecipes.com/recipe/236016/fiesta-steak-chili/',\n",
       " 'https://www.allrecipes.com/recipe/238664/seitan-diavolo/',\n",
       " 'https://www.allrecipes.com/recipe/265864/vegan-pumpkin-spice-cake/',\n",
       " 'https://www.allrecipes.com/recipe/266543/fruit-crepe-kebabs/',\n",
       " 'https://www.allrecipes.com/recipe/266749/rainbow-fruit-salsa-with-whole-wheat-cinnamon-chips/',\n",
       " 'https://www.allrecipes.com/recipe/263770/sheet-pan-zucchini-carrot-cake/',\n",
       " 'https://www.allrecipes.com/recipe/261019/halloween-meat-head/',\n",
       " 'https://www.allrecipes.com/recipe/261104/christmas-stuffing/',\n",
       " 'https://www.allrecipes.com/recipe/260410/paleo-seafood-chili/',\n",
       " 'https://www.allrecipes.com/recipe/258618/corn-cherry-tomato-salad/',\n",
       " 'https://www.allrecipes.com/recipe/259335/red-chard-with-feta-and-tomatoes/',\n",
       " 'https://www.allrecipes.com/recipe/256145/mini-cornmeal-cupcakes-with-maple-butter-cream/',\n",
       " 'https://www.allrecipes.com/recipe/237574/michele-and-karens-delicious-arugula-salad/',\n",
       " 'https://www.allrecipes.com/recipe/276902/toris-air-fryer-pumpkin-bagels/',\n",
       " 'https://www.allrecipes.com/recipe/276087/whiskey-glazed-ham/',\n",
       " 'https://www.allrecipes.com/recipe/276529/pumpkin-nut-cookies/',\n",
       " 'https://www.allrecipes.com/recipe/274938/white-chocolate-biscotti/',\n",
       " 'https://www.allrecipes.com/recipe/278088/christmas-pasta-salad/',\n",
       " 'https://www.allrecipes.com/recipe/283321/burrata-caprese/',\n",
       " 'https://www.allrecipes.com/recipe/281731/spicy-marinated-cauliflower-salad/',\n",
       " 'https://www.allrecipes.com/recipe/282314/peppermint-white-hot-chocolate/',\n",
       " 'https://www.allrecipes.com/recipe/282812/dairy-free-turkey-quinoa-meatloaf-casserole/',\n",
       " 'https://www.allrecipes.com/recipe/241805/baked-tofu-bites-on-a-bed-of-leafy-romaine/',\n",
       " 'https://www.allrecipes.com/recipe/24282/plum-pudding-i/',\n",
       " 'https://www.allrecipes.com/recipe/238731/gibanica-serbian-cheese-pie/',\n",
       " 'https://www.allrecipes.com/recipe/240676/reds-potato-salad/',\n",
       " 'https://www.allrecipes.com/recipe/241274/lemon-goat-cheese-cheesecake-bites-gluten-free-optional/',\n",
       " 'https://www.allrecipes.com/recipe/241355/clamato-pasta-primavera-with-creamy-sauce/',\n",
       " 'https://www.allrecipes.com/recipe/241050/chicken-with-creamy-realemon-sauce/',\n",
       " 'https://www.allrecipes.com/recipe/240077/nadias-easy-pumpkin-cornbread-muffins/',\n",
       " 'https://www.allrecipes.com/recipe/239625/italian-chocolate-balls-tuttu-balls/',\n",
       " 'https://www.allrecipes.com/recipe/237479/tuxedovilles-rhubarb-muffins/',\n",
       " 'https://www.allrecipes.com/recipe/237860/healthier-brownie-batter-dip/',\n",
       " 'https://www.allrecipes.com/recipe/234638/candices-lasagna-omelet/',\n",
       " 'https://www.allrecipes.com/recipe/233660/quick-smores-bars/',\n",
       " 'https://www.allrecipes.com/recipe/235408/chickpea-quinoa-mock-tuna-salad/',\n",
       " 'https://www.allrecipes.com/recipe/236923/aunt-kathys-tortilla-soup/',\n",
       " 'https://www.allrecipes.com/recipe/234160/pumpkin-pineapple-chili/',\n",
       " 'https://www.allrecipes.com/recipe/234792/greek-salad-on-roasted-garlic-french-bread/',\n",
       " 'https://www.allrecipes.com/recipe/235212/sausage-and-cheese-fluffins/',\n",
       " 'https://www.allrecipes.com/recipe/223334/hide-the-veggies-please-summer-squash-and-zucchini-corn-casserole/',\n",
       " 'https://www.allrecipes.com/recipe/223378/mamabears-potato-salad/',\n",
       " 'https://www.allrecipes.com/recipe/219971/old-fashioned-butter-valentine-cookies-dipped-in-chocolate/',\n",
       " 'https://www.allrecipes.com/recipe/177415/cinnamon-toast/',\n",
       " 'https://www.allrecipes.com/recipe/177727/picante-shrimp-n-pepper-pasta/',\n",
       " 'https://www.allrecipes.com/recipe/239116/to-die-for-butter-tarts/']"
      ]
     },
     "execution_count": 22,
     "metadata": {},
     "output_type": "execute_result"
    }
   ],
   "source": [
    "bot.scrape_page_links('//a[@class=\"card__titleLink manual-link-behavior elementFont__titleLink margin-8-bottom\"]',\n",
    "     1)"
   ]
  },
  {
   "cell_type": "code",
   "execution_count": 23,
   "metadata": {},
   "outputs": [
    {
     "data": {
      "text/plain": [
       "'cdb7f145-8e6d-485e-ba45-958007302d14'"
      ]
     },
     "execution_count": 23,
     "metadata": {},
     "output_type": "execute_result"
    }
   ],
   "source": [
    "bot.generate_uuid4()"
   ]
  },
  {
   "cell_type": "code",
   "execution_count": 25,
   "metadata": {},
   "outputs": [
    {
     "data": {
      "text/plain": [
       "'Image downloaded'"
      ]
     },
     "execution_count": 25,
     "metadata": {},
     "output_type": "execute_result"
    }
   ],
   "source": [
    "bot.download_image('//div[@class=\"inner-container js-inner-container image-overlay\"]/img', os.path.join(os.getcwd(), 'image_file.jpg'))"
   ]
  },
  {
   "cell_type": "code",
   "execution_count": 6,
   "metadata": {},
   "outputs": [
    {
     "name": "stdout",
     "output_type": "stream",
     "text": [
      "{'recipe_uuid4': '31efa91d-ab53-402e-ad18-87d2b1981f1f', 'recipe_id': '266439', 'link': 'https://www.allrecipes.com/recipe/266439/oven-roasted-corn-on-the-cob-with-blue-cheese/', 'ingredient_list': ['4 tablespoons unsalted butter, softened', '2 teaspoons dried dill', '6 ears corn, husks and silk removed', '⅔ cup crumbled blue cheese'], 'recipe_meta': ['Prep: 10 mins', 'Cook: 25 mins', 'Total: 35 mins', 'Servings: 6', 'Yield: 6 ears of corn'], 'direction_steps': ['Step 1', 'Step 2', 'Step 3', 'Step 4'], 'directions_instructions': ['Preheat the oven to 400 degrees F (200 degrees C).', 'Combine butter and dill in a bowl to form a paste. Rub paste evenly on each ear of corn and wrap individually in aluminum foil. Arrange on a baking sheet.', 'Bake in the preheated oven for 20 minutes.', 'Remove corn from the oven and carefully open each packet. Sprinkle corn evenly with blue cheese. Return corn to the hot oven and bake until melted, about 5 minutes more.'], 'nutrition_summary': ['199 calories; protein 6.3g; carbohydrates 17.7g; fat 13.1g; cholesterol 31.6mg; sodium 224.5mg. Full Nutrition'], 'sub_categories': ['Home', 'Recipes', 'Everyday Cooking', 'Vegetarian']}\n"
     ]
    },
    {
     "data": {
      "text/plain": [
       "'Image uploaded'"
      ]
     },
     "execution_count": 6,
     "metadata": {},
     "output_type": "execute_result"
    }
   ],
   "source": [
    "import re\n",
    "import numpy as np\n",
    "import pandas as pd\n",
    "# link = 'https://www.allrecipes.com/recipe/266641/smoky-zucchini-casserole/'  # being scraped\n",
    "link = 'https://www.allrecipes.com/recipe/266439/oven-roasted-corn-on-the-cob-with-blue-cheese/'  # next\n",
    "bot.driver.get(link)\n",
    "recipe_dict = {\n",
    "    'recipe_uuid4': bot.generate_uuid4(),\n",
    "    'recipe_id': bot.extract_continous_digit_group(link),\n",
    "    'link': link,\n",
    "    }\n",
    "scraped_page_dict = bot.scrape_multiple_page_elements(\n",
    "    ingredient_list='//span[@class=\"ingredients-item-name elementFont__body\"]',\n",
    "    recipe_meta='//div[@class=\"recipe-meta-item\"]',\n",
    "    direction_steps='//span[@class=\"checkbox-list-text elementFont__subtitle--bold\"]',\n",
    "    directions_instructions='//div[@class=\"section-body elementFont__body--paragraphWithin elementFont__body--linkWithin\"]/div[@class=\"paragraph\"]/p',\n",
    "    nutrition_summary='//div[@class=\"section-body\"]',\n",
    "    sub_categories='//span[@class=\"breadcrumbs__title\"]'\n",
    "    )\n",
    "recipe_dict.update(scraped_page_dict)\n",
    "print(recipe_dict)\n",
    "try:\n",
    "    sub_cat = os.path.join(\"AllRecipes\", re.sub(r'\\W+', '', recipe_dict['sub_categories'][2]))\n",
    "except IndexError:\n",
    "    sub_cat = os.path.join(\"AllRecipes\", re.sub(r'\\W+', '', recipe_dict['sub_categories'][-1]))\n",
    "recipe_df_create = bot.create_df_from_dict(['recipe_uuid4', 'recipe_id', 'link'], recipe_dict)\n",
    "ingredients_df_create = bot.create_df_from_dict(['recipe_uuid4', 'ingredient_list'], recipe_dict)\n",
    "directions_df_create = bot.create_df_from_dict(['recipe_uuid4', 'direction_steps', 'directions_instructions'], recipe_dict)\n",
    "recipe_meta_df_create = bot.create_df_from_dict(['recipe_uuid4', 'recipe_meta'], recipe_dict)\n",
    "nutrition_summary_df_create = bot.create_df_from_dict(['recipe_uuid4', 'nutrition_summary'], recipe_dict)\n",
    "image_id = bot.generate_uuid4()\n",
    "bot.upload_image('//div[@class=\"inner-container js-inner-container image-overlay\"]/img', 'testing' , 'watsonaicore', 'testing')\n",
    "\n",
    "# ingredients_df_create = pd.DataFrame({key: value for key, value in recipe_dict.items() if key in ['recipe_uuid4', 'ingredient_list']})\n",
    "# directions_df_create = pd.DataFrame({key: value for key, value in recipe_dict.items() if key in ['recipe_uuid4', 'direction_steps', 'directions_instructions']})\n",
    "# recipe_meta_df_create = pd.DataFrame({key: value for key, value in recipe_dict.items() if key in ['recipe_uuid4', 'recipe_meta']})\n",
    "# nutrition_summary_df_create = pd.DataFrame({key: value for key, value in recipe_dict.items() if key in ['recipe_uuid4', 'nutrition_summary']})\n"
   ]
  }
 ],
 "metadata": {
  "interpreter": {
   "hash": "81c5ff91b72c9c02ede9b1d23e97892c0183cc91a053f108d9de0a266fdd5c38"
  },
  "kernelspec": {
   "display_name": "Python 3.9.7 ('webscraper')",
   "language": "python",
   "name": "python3"
  },
  "language_info": {
   "codemirror_mode": {
    "name": "ipython",
    "version": 3
   },
   "file_extension": ".py",
   "mimetype": "text/x-python",
   "name": "python",
   "nbconvert_exporter": "python",
   "pygments_lexer": "ipython3",
   "version": "3.9.7"
  },
  "orig_nbformat": 4
 },
 "nbformat": 4,
 "nbformat_minor": 2
}
